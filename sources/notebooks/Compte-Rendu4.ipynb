{
 "cells": [
  {
   "cell_type": "markdown",
   "metadata": {},
   "source": [
    "# Compte rendu numéro 3 -  29-03"
   ]
  },
  {
   "cell_type": "markdown",
   "metadata": {},
   "source": [
    "## Imports"
   ]
  },
  {
   "cell_type": "code",
   "execution_count": 1,
   "metadata": {},
   "outputs": [
    {
     "name": "stdout",
     "output_type": "stream",
     "text": [
      "C:\\Users\\jrusp\\Desktop\\Code CM\n"
     ]
    }
   ],
   "source": [
    "%load_ext autoreload\n",
    "%autoreload 2\n",
    "import os\n",
    "import sys\n",
    "os.chdir(sys.path[0]+\"/..\")\n",
    "cwd = os.getcwd()\n",
    "print(cwd)"
   ]
  },
  {
   "cell_type": "code",
   "execution_count": null,
   "metadata": {},
   "outputs": [],
   "source": [
    "from added import *\n",
    "from runwatermaze import perform_pearce, plot_pearce\n",
    "from agents import CombinedAgent"
   ]
  },
  {
   "cell_type": "markdown",
   "metadata": {},
   "source": [
    "### Première expérience de Pearce avec les stratégies originales de Geerts: ego-MF et SR"
   ]
  },
  {
   "cell_type": "code",
   "execution_count": 5,
   "metadata": {},
   "outputs": [
    {
     "data": {
      "text/plain": [
       "array([[1],\n",
       "       [2],\n",
       "       [3],\n",
       "       [4],\n",
       "       [5],\n",
       "       [6],\n",
       "       [7]])"
      ]
     },
     "execution_count": 5,
     "metadata": {},
     "output_type": "execute_result"
    }
   ],
   "source": [
    "import numpy\n",
    "\n",
    "numpy.array([h_sorted[range(0,n)]]).transpose()"
   ]
  },
  {
   "cell_type": "code",
   "execution_count": null,
   "metadata": {},
   "outputs": [],
   "source": [
    "exp = \"first_exp_pearce\"\n",
    "maze_size = 10\n",
    "n_sessions = 11\n",
    "n_trials = 4\n",
    "n_agents = 100\n",
    "mf_allo = False\n",
    "sr_lr = 0.07\n",
    "q_lr = 0.07\n",
    "inv_temp = 16\n",
    "gamma = 0.95\n",
    "eta = 0.03 # reliability learning rate\n",
    "mpe = 1 # maximum prediction error\n",
    "A_alpha = 1.8 # Steepness of transition curve MF to SR \n",
    "A_beta = 1.1 # Steepness of transition curve SR to MF \n",
    "landmark_dist = 4\n",
    "HPCmode = \"SR\"\n",
    "time_limit = 500\n",
    "starting_points = [243,230,270,257]"
   ]
  },
  {
   "cell_type": "code",
   "execution_count": null,
   "metadata": {},
   "outputs": [],
   "source": [
    "plot_pearce(exp, maze_size, n_trials, n_sessions, n_agents, mf_allo, sr_lr, q_lr, inv_temp, gamma, eta, mpe, A_alpha, A_beta, landmark_dist, HPCmode, time_limit, starting_points)"
   ]
  }
 ],
 "metadata": {
  "kernelspec": {
   "display_name": "Python 3",
   "language": "python",
   "name": "python3"
  },
  "language_info": {
   "codemirror_mode": {
    "name": "ipython",
    "version": 3
   },
   "file_extension": ".py",
   "mimetype": "text/x-python",
   "name": "python",
   "nbconvert_exporter": "python",
   "pygments_lexer": "ipython3",
   "version": "3.7.4"
  }
 },
 "nbformat": 4,
 "nbformat_minor": 2
}
